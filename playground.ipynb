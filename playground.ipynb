{
 "cells": [
  {
   "cell_type": "code",
   "execution_count": 12,
   "metadata": {},
   "outputs": [
    {
     "data": {
      "text/plain": [
       "[FrozenTrial(number=2, state=TrialState.COMPLETE, values=[0.9663865546218487, 0.9126984126984127], datetime_start=datetime.datetime(2023, 5, 18, 18, 6, 0, 435273), datetime_complete=datetime.datetime(2023, 5, 18, 18, 6, 2, 221273), params={'learning_rate': 0.32720634190555864, 'n_estimators': 180}, user_attrs={'model_path': 'dvclive-optuna/model.pkl'}, system_attrs={}, intermediate_values={}, distributions={'learning_rate': FloatDistribution(high=1.0, log=False, low=0.0001, step=None), 'n_estimators': IntDistribution(high=200, log=False, low=10, step=10)}, trial_id=2, value=None),\n",
       " FrozenTrial(number=3, state=TrialState.COMPLETE, values=[0.957983193277311, 0.926829268292683], datetime_start=datetime.datetime(2023, 5, 18, 18, 6, 2, 464091), datetime_complete=datetime.datetime(2023, 5, 18, 18, 6, 3, 564300), params={'learning_rate': 0.6661236040767159, 'n_estimators': 110}, user_attrs={'model_path': 'dvclive-optuna/model.pkl'}, system_attrs={}, intermediate_values={}, distributions={'learning_rate': FloatDistribution(high=1.0, log=False, low=0.0001, step=None), 'n_estimators': IntDistribution(high=200, log=False, low=10, step=10)}, trial_id=3, value=None),\n",
       " FrozenTrial(number=5, state=TrialState.COMPLETE, values=[0.957983193277311, 0.926829268292683], datetime_start=datetime.datetime(2023, 5, 18, 18, 6, 5, 619748), datetime_complete=datetime.datetime(2023, 5, 18, 18, 6, 7, 390270), params={'learning_rate': 0.39501052342916276, 'n_estimators': 170}, user_attrs={'model_path': 'dvclive-optuna/model.pkl'}, system_attrs={}, intermediate_values={}, distributions={'learning_rate': FloatDistribution(high=1.0, log=False, low=0.0001, step=None), 'n_estimators': IntDistribution(high=200, log=False, low=10, step=10)}, trial_id=5, value=None)]"
      ]
     },
     "execution_count": 12,
     "metadata": {},
     "output_type": "execute_result"
    }
   ],
   "source": [
    "import joblib\n",
    "\n",
    "study = joblib.load(open(\"dvclive-optuna/study.pkl\", \"rb\"))\n",
    "study.best_trials"
   ]
  }
 ],
 "metadata": {
  "kernelspec": {
   "display_name": ".venv",
   "language": "python",
   "name": "python3"
  },
  "language_info": {
   "codemirror_mode": {
    "name": "ipython",
    "version": 3
   },
   "file_extension": ".py",
   "mimetype": "text/x-python",
   "name": "python",
   "nbconvert_exporter": "python",
   "pygments_lexer": "ipython3",
   "version": "3.10.10"
  },
  "orig_nbformat": 4
 },
 "nbformat": 4,
 "nbformat_minor": 2
}
