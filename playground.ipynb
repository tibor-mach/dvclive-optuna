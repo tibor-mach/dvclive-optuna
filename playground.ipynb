{
 "cells": [
  {
   "cell_type": "code",
   "execution_count": 3,
   "metadata": {},
   "outputs": [],
   "source": [
    "import optuna\n",
    "import joblib\n",
    "\n",
    "study = joblib.load(open(\"dvclive-optuna/study.pkl\", \"rb\"))"
   ]
  },
  {
   "cell_type": "code",
   "execution_count": 5,
   "metadata": {},
   "outputs": [
    {
     "data": {
      "application/vnd.plotly.v1+json": {
       "config": {
        "plotlyServerURL": "https://plot.ly"
       },
       "data": [
        {
         "hovertemplate": "%{text}<extra>Trial</extra>",
         "marker": {
          "color": [
           0,
           1,
           2,
           3,
           4,
           5,
           6,
           7,
           9,
           10,
           11,
           12,
           13,
           14,
           15,
           16,
           17,
           18,
           19
          ],
          "colorbar": {
           "title": {
            "text": "Trial"
           }
          },
          "colorscale": [
           [
            0,
            "rgb(247,251,255)"
           ],
           [
            0.125,
            "rgb(222,235,247)"
           ],
           [
            0.25,
            "rgb(198,219,239)"
           ],
           [
            0.375,
            "rgb(158,202,225)"
           ],
           [
            0.5,
            "rgb(107,174,214)"
           ],
           [
            0.625,
            "rgb(66,146,198)"
           ],
           [
            0.75,
            "rgb(33,113,181)"
           ],
           [
            0.875,
            "rgb(8,81,156)"
           ],
           [
            1,
            "rgb(8,48,107)"
           ]
          ],
          "line": {
           "color": "Grey",
           "width": 0.5
          }
         },
         "mode": "markers",
         "showlegend": false,
         "text": [
          "{<br>  \"number\": 0,<br>  \"values\": [<br>    0.936,<br>    0.9186991869918699<br>  ],<br>  \"params\": {<br>    \"learning_rate\": 0.11514306093313999,<br>    \"n_estimators\": 130<br>  },<br>  \"user_attrs\": {<br>    \"model_path\": \"dvclive-optuna/model.pkl\"<br>  }<br>}",
          "{<br>  \"number\": 1,<br>  \"values\": [<br>    0.936,<br>    0.9186991869918699<br>  ],<br>  \"params\": {<br>    \"learning_rate\": 0.13347762508956967,<br>    \"n_estimators\": 50<br>  },<br>  \"user_attrs\": {<br>    \"model_path\": \"dvclive-optuna/model.pkl\"<br>  }<br>}",
          "{<br>  \"number\": 2,<br>  \"values\": [<br>    0.94,<br>    0.9126984126984127<br>  ],<br>  \"params\": {<br>    \"learning_rate\": 0.32720634190555864,<br>    \"n_estimators\": 180<br>  },<br>  \"user_attrs\": {<br>    \"model_path\": \"dvclive-optuna/model.pkl\"<br>  }<br>}",
          "{<br>  \"number\": 3,<br>  \"values\": [<br>    0.936,<br>    0.9186991869918699<br>  ],<br>  \"params\": {<br>    \"learning_rate\": 0.6661236040767159,<br>    \"n_estimators\": 110<br>  },<br>  \"user_attrs\": {<br>    \"model_path\": \"dvclive-optuna/model.pkl\"<br>  }<br>}",
          "{<br>  \"number\": 4,<br>  \"values\": [<br>    0.936,<br>    0.9186991869918699<br>  ],<br>  \"params\": {<br>    \"learning_rate\": 0.029110923041917966,<br>    \"n_estimators\": 150<br>  },<br>  \"user_attrs\": {<br>    \"model_path\": \"dvclive-optuna/model.pkl\"<br>  }<br>}",
          "{<br>  \"number\": 5,<br>  \"values\": [<br>    0.944,<br>    0.926829268292683<br>  ],<br>  \"params\": {<br>    \"learning_rate\": 0.39501052342916276,<br>    \"n_estimators\": 170<br>  },<br>  \"user_attrs\": {<br>    \"model_path\": \"dvclive-optuna/model.pkl\"<br>  }<br>}",
          "{<br>  \"number\": 6,<br>  \"values\": [<br>    0.936,<br>    0.9186991869918699<br>  ],<br>  \"params\": {<br>    \"learning_rate\": 0.2544956837472933,<br>    \"n_estimators\": 20<br>  },<br>  \"user_attrs\": {<br>    \"model_path\": \"dvclive-optuna/model.pkl\"<br>  }<br>}",
          "{<br>  \"number\": 7,<br>  \"values\": [<br>    0.932,<br>    0.9180327868852459<br>  ],<br>  \"params\": {<br>    \"learning_rate\": 0.8666619760351103,<br>    \"n_estimators\": 50<br>  },<br>  \"user_attrs\": {<br>    \"model_path\": \"dvclive-optuna/model.pkl\"<br>  }<br>}",
          "{<br>  \"number\": 9,<br>  \"values\": [<br>    0.936,<br>    0.9186991869918699<br>  ],<br>  \"params\": {<br>    \"learning_rate\": 0.07675503372644762,<br>    \"n_estimators\": 170<br>  },<br>  \"user_attrs\": {<br>    \"model_path\": \"dvclive-optuna/model.pkl\"<br>  }<br>}",
          "{<br>  \"number\": 10,<br>  \"values\": [<br>    0.936,<br>    0.9186991869918699<br>  ],<br>  \"params\": {<br>    \"learning_rate\": 0.5415256970389899,<br>    \"n_estimators\": 80<br>  },<br>  \"user_attrs\": {<br>    \"model_path\": \"dvclive-optuna/model.pkl\"<br>  }<br>}",
          "{<br>  \"number\": 11,<br>  \"values\": [<br>    0.94,<br>    0.9262295081967213<br>  ],<br>  \"params\": {<br>    \"learning_rate\": 0.4111219891025837,<br>    \"n_estimators\": 90<br>  },<br>  \"user_attrs\": {<br>    \"model_path\": \"dvclive-optuna/model.pkl\"<br>  }<br>}",
          "{<br>  \"number\": 12,<br>  \"values\": [<br>    0.936,<br>    0.9186991869918699<br>  ],<br>  \"params\": {<br>    \"learning_rate\": 0.5376401359996379,<br>    \"n_estimators\": 10<br>  },<br>  \"user_attrs\": {<br>    \"model_path\": \"dvclive-optuna/model.pkl\"<br>  }<br>}",
          "{<br>  \"number\": 13,<br>  \"values\": [<br>    0.932,<br>    0.9112903225806451<br>  ],<br>  \"params\": {<br>    \"learning_rate\": 0.9780855286848475,<br>    \"n_estimators\": 60<br>  },<br>  \"user_attrs\": {<br>    \"model_path\": \"dvclive-optuna/model.pkl\"<br>  }<br>}",
          "{<br>  \"number\": 14,<br>  \"values\": [<br>    0.936,<br>    0.9186991869918699<br>  ],<br>  \"params\": {<br>    \"learning_rate\": 0.2770270705800466,<br>    \"n_estimators\": 110<br>  },<br>  \"user_attrs\": {<br>    \"model_path\": \"dvclive-optuna/model.pkl\"<br>  }<br>}",
          "{<br>  \"number\": 15,<br>  \"values\": [<br>    0.94,<br>    0.9193548387096774<br>  ],<br>  \"params\": {<br>    \"learning_rate\": 0.6902190485639651,<br>    \"n_estimators\": 200<br>  },<br>  \"user_attrs\": {<br>    \"model_path\": \"dvclive-optuna/model.pkl\"<br>  }<br>}",
          "{<br>  \"number\": 16,<br>  \"values\": [<br>    0.94,<br>    0.9333333333333333<br>  ],<br>  \"params\": {<br>    \"learning_rate\": 0.41841652380429806,<br>    \"n_estimators\": 70<br>  },<br>  \"user_attrs\": {<br>    \"model_path\": \"dvclive-optuna/model.pkl\"<br>  }<br>}",
          "{<br>  \"number\": 17,<br>  \"values\": [<br>    0.936,<br>    0.9186991869918699<br>  ],<br>  \"params\": {<br>    \"learning_rate\": 0.20717973724803818,<br>    \"n_estimators\": 30<br>  },<br>  \"user_attrs\": {<br>    \"model_path\": \"dvclive-optuna/model.pkl\"<br>  }<br>}",
          "{<br>  \"number\": 18,<br>  \"values\": [<br>    0.936,<br>    0.9186991869918699<br>  ],<br>  \"params\": {<br>    \"learning_rate\": 0.44263559250631745,<br>    \"n_estimators\": 80<br>  },<br>  \"user_attrs\": {<br>    \"model_path\": \"dvclive-optuna/model.pkl\"<br>  }<br>}",
          "{<br>  \"number\": 19,<br>  \"values\": [<br>    0.936,<br>    0.9256198347107438<br>  ],<br>  \"params\": {<br>    \"learning_rate\": 0.009936813457107951,<br>    \"n_estimators\": 140<br>  },<br>  \"user_attrs\": {<br>    \"model_path\": \"dvclive-optuna/model.pkl\"<br>  }<br>}"
         ],
         "type": "scatter",
         "x": [
          0.936,
          0.936,
          0.94,
          0.936,
          0.936,
          0.944,
          0.936,
          0.932,
          0.936,
          0.936,
          0.94,
          0.936,
          0.932,
          0.936,
          0.94,
          0.94,
          0.936,
          0.936,
          0.936
         ],
         "y": [
          0.9186991869918699,
          0.9186991869918699,
          0.9126984126984127,
          0.9186991869918699,
          0.9186991869918699,
          0.926829268292683,
          0.9186991869918699,
          0.9180327868852459,
          0.9186991869918699,
          0.9186991869918699,
          0.9262295081967213,
          0.9186991869918699,
          0.9112903225806451,
          0.9186991869918699,
          0.9193548387096774,
          0.9333333333333333,
          0.9186991869918699,
          0.9186991869918699,
          0.9256198347107438
         ]
        },
        {
         "hovertemplate": "%{text}<extra>Best Trial</extra>",
         "marker": {
          "color": [
           8
          ],
          "colorbar": {
           "title": {
            "text": "Best Trial"
           },
           "x": 1.1,
           "xpad": 40
          },
          "colorscale": [
           [
            0,
            "rgb(255,245,240)"
           ],
           [
            0.125,
            "rgb(254,224,210)"
           ],
           [
            0.25,
            "rgb(252,187,161)"
           ],
           [
            0.375,
            "rgb(252,146,114)"
           ],
           [
            0.5,
            "rgb(251,106,74)"
           ],
           [
            0.625,
            "rgb(239,59,44)"
           ],
           [
            0.75,
            "rgb(203,24,29)"
           ],
           [
            0.875,
            "rgb(165,15,21)"
           ],
           [
            1,
            "rgb(103,0,13)"
           ]
          ],
          "line": {
           "color": "Grey",
           "width": 0.5
          }
         },
         "mode": "markers",
         "showlegend": false,
         "text": [
          "{<br>  \"number\": 8,<br>  \"values\": [<br>    0.948,<br>    0.9344262295081968<br>  ],<br>  \"params\": {<br>    \"learning_rate\": 0.4050489491024549,<br>    \"n_estimators\": 70<br>  },<br>  \"user_attrs\": {<br>    \"model_path\": \"dvclive-optuna/model.pkl\"<br>  }<br>}"
         ],
         "type": "scatter",
         "x": [
          0.948
         ],
         "y": [
          0.9344262295081968
         ]
        }
       ],
       "layout": {
        "template": {
         "data": {
          "bar": [
           {
            "error_x": {
             "color": "#2a3f5f"
            },
            "error_y": {
             "color": "#2a3f5f"
            },
            "marker": {
             "line": {
              "color": "#E5ECF6",
              "width": 0.5
             },
             "pattern": {
              "fillmode": "overlay",
              "size": 10,
              "solidity": 0.2
             }
            },
            "type": "bar"
           }
          ],
          "barpolar": [
           {
            "marker": {
             "line": {
              "color": "#E5ECF6",
              "width": 0.5
             },
             "pattern": {
              "fillmode": "overlay",
              "size": 10,
              "solidity": 0.2
             }
            },
            "type": "barpolar"
           }
          ],
          "carpet": [
           {
            "aaxis": {
             "endlinecolor": "#2a3f5f",
             "gridcolor": "white",
             "linecolor": "white",
             "minorgridcolor": "white",
             "startlinecolor": "#2a3f5f"
            },
            "baxis": {
             "endlinecolor": "#2a3f5f",
             "gridcolor": "white",
             "linecolor": "white",
             "minorgridcolor": "white",
             "startlinecolor": "#2a3f5f"
            },
            "type": "carpet"
           }
          ],
          "choropleth": [
           {
            "colorbar": {
             "outlinewidth": 0,
             "ticks": ""
            },
            "type": "choropleth"
           }
          ],
          "contour": [
           {
            "colorbar": {
             "outlinewidth": 0,
             "ticks": ""
            },
            "colorscale": [
             [
              0,
              "#0d0887"
             ],
             [
              0.1111111111111111,
              "#46039f"
             ],
             [
              0.2222222222222222,
              "#7201a8"
             ],
             [
              0.3333333333333333,
              "#9c179e"
             ],
             [
              0.4444444444444444,
              "#bd3786"
             ],
             [
              0.5555555555555556,
              "#d8576b"
             ],
             [
              0.6666666666666666,
              "#ed7953"
             ],
             [
              0.7777777777777778,
              "#fb9f3a"
             ],
             [
              0.8888888888888888,
              "#fdca26"
             ],
             [
              1,
              "#f0f921"
             ]
            ],
            "type": "contour"
           }
          ],
          "contourcarpet": [
           {
            "colorbar": {
             "outlinewidth": 0,
             "ticks": ""
            },
            "type": "contourcarpet"
           }
          ],
          "heatmap": [
           {
            "colorbar": {
             "outlinewidth": 0,
             "ticks": ""
            },
            "colorscale": [
             [
              0,
              "#0d0887"
             ],
             [
              0.1111111111111111,
              "#46039f"
             ],
             [
              0.2222222222222222,
              "#7201a8"
             ],
             [
              0.3333333333333333,
              "#9c179e"
             ],
             [
              0.4444444444444444,
              "#bd3786"
             ],
             [
              0.5555555555555556,
              "#d8576b"
             ],
             [
              0.6666666666666666,
              "#ed7953"
             ],
             [
              0.7777777777777778,
              "#fb9f3a"
             ],
             [
              0.8888888888888888,
              "#fdca26"
             ],
             [
              1,
              "#f0f921"
             ]
            ],
            "type": "heatmap"
           }
          ],
          "heatmapgl": [
           {
            "colorbar": {
             "outlinewidth": 0,
             "ticks": ""
            },
            "colorscale": [
             [
              0,
              "#0d0887"
             ],
             [
              0.1111111111111111,
              "#46039f"
             ],
             [
              0.2222222222222222,
              "#7201a8"
             ],
             [
              0.3333333333333333,
              "#9c179e"
             ],
             [
              0.4444444444444444,
              "#bd3786"
             ],
             [
              0.5555555555555556,
              "#d8576b"
             ],
             [
              0.6666666666666666,
              "#ed7953"
             ],
             [
              0.7777777777777778,
              "#fb9f3a"
             ],
             [
              0.8888888888888888,
              "#fdca26"
             ],
             [
              1,
              "#f0f921"
             ]
            ],
            "type": "heatmapgl"
           }
          ],
          "histogram": [
           {
            "marker": {
             "pattern": {
              "fillmode": "overlay",
              "size": 10,
              "solidity": 0.2
             }
            },
            "type": "histogram"
           }
          ],
          "histogram2d": [
           {
            "colorbar": {
             "outlinewidth": 0,
             "ticks": ""
            },
            "colorscale": [
             [
              0,
              "#0d0887"
             ],
             [
              0.1111111111111111,
              "#46039f"
             ],
             [
              0.2222222222222222,
              "#7201a8"
             ],
             [
              0.3333333333333333,
              "#9c179e"
             ],
             [
              0.4444444444444444,
              "#bd3786"
             ],
             [
              0.5555555555555556,
              "#d8576b"
             ],
             [
              0.6666666666666666,
              "#ed7953"
             ],
             [
              0.7777777777777778,
              "#fb9f3a"
             ],
             [
              0.8888888888888888,
              "#fdca26"
             ],
             [
              1,
              "#f0f921"
             ]
            ],
            "type": "histogram2d"
           }
          ],
          "histogram2dcontour": [
           {
            "colorbar": {
             "outlinewidth": 0,
             "ticks": ""
            },
            "colorscale": [
             [
              0,
              "#0d0887"
             ],
             [
              0.1111111111111111,
              "#46039f"
             ],
             [
              0.2222222222222222,
              "#7201a8"
             ],
             [
              0.3333333333333333,
              "#9c179e"
             ],
             [
              0.4444444444444444,
              "#bd3786"
             ],
             [
              0.5555555555555556,
              "#d8576b"
             ],
             [
              0.6666666666666666,
              "#ed7953"
             ],
             [
              0.7777777777777778,
              "#fb9f3a"
             ],
             [
              0.8888888888888888,
              "#fdca26"
             ],
             [
              1,
              "#f0f921"
             ]
            ],
            "type": "histogram2dcontour"
           }
          ],
          "mesh3d": [
           {
            "colorbar": {
             "outlinewidth": 0,
             "ticks": ""
            },
            "type": "mesh3d"
           }
          ],
          "parcoords": [
           {
            "line": {
             "colorbar": {
              "outlinewidth": 0,
              "ticks": ""
             }
            },
            "type": "parcoords"
           }
          ],
          "pie": [
           {
            "automargin": true,
            "type": "pie"
           }
          ],
          "scatter": [
           {
            "fillpattern": {
             "fillmode": "overlay",
             "size": 10,
             "solidity": 0.2
            },
            "type": "scatter"
           }
          ],
          "scatter3d": [
           {
            "line": {
             "colorbar": {
              "outlinewidth": 0,
              "ticks": ""
             }
            },
            "marker": {
             "colorbar": {
              "outlinewidth": 0,
              "ticks": ""
             }
            },
            "type": "scatter3d"
           }
          ],
          "scattercarpet": [
           {
            "marker": {
             "colorbar": {
              "outlinewidth": 0,
              "ticks": ""
             }
            },
            "type": "scattercarpet"
           }
          ],
          "scattergeo": [
           {
            "marker": {
             "colorbar": {
              "outlinewidth": 0,
              "ticks": ""
             }
            },
            "type": "scattergeo"
           }
          ],
          "scattergl": [
           {
            "marker": {
             "colorbar": {
              "outlinewidth": 0,
              "ticks": ""
             }
            },
            "type": "scattergl"
           }
          ],
          "scattermapbox": [
           {
            "marker": {
             "colorbar": {
              "outlinewidth": 0,
              "ticks": ""
             }
            },
            "type": "scattermapbox"
           }
          ],
          "scatterpolar": [
           {
            "marker": {
             "colorbar": {
              "outlinewidth": 0,
              "ticks": ""
             }
            },
            "type": "scatterpolar"
           }
          ],
          "scatterpolargl": [
           {
            "marker": {
             "colorbar": {
              "outlinewidth": 0,
              "ticks": ""
             }
            },
            "type": "scatterpolargl"
           }
          ],
          "scatterternary": [
           {
            "marker": {
             "colorbar": {
              "outlinewidth": 0,
              "ticks": ""
             }
            },
            "type": "scatterternary"
           }
          ],
          "surface": [
           {
            "colorbar": {
             "outlinewidth": 0,
             "ticks": ""
            },
            "colorscale": [
             [
              0,
              "#0d0887"
             ],
             [
              0.1111111111111111,
              "#46039f"
             ],
             [
              0.2222222222222222,
              "#7201a8"
             ],
             [
              0.3333333333333333,
              "#9c179e"
             ],
             [
              0.4444444444444444,
              "#bd3786"
             ],
             [
              0.5555555555555556,
              "#d8576b"
             ],
             [
              0.6666666666666666,
              "#ed7953"
             ],
             [
              0.7777777777777778,
              "#fb9f3a"
             ],
             [
              0.8888888888888888,
              "#fdca26"
             ],
             [
              1,
              "#f0f921"
             ]
            ],
            "type": "surface"
           }
          ],
          "table": [
           {
            "cells": {
             "fill": {
              "color": "#EBF0F8"
             },
             "line": {
              "color": "white"
             }
            },
            "header": {
             "fill": {
              "color": "#C8D4E3"
             },
             "line": {
              "color": "white"
             }
            },
            "type": "table"
           }
          ]
         },
         "layout": {
          "annotationdefaults": {
           "arrowcolor": "#2a3f5f",
           "arrowhead": 0,
           "arrowwidth": 1
          },
          "autotypenumbers": "strict",
          "coloraxis": {
           "colorbar": {
            "outlinewidth": 0,
            "ticks": ""
           }
          },
          "colorscale": {
           "diverging": [
            [
             0,
             "#8e0152"
            ],
            [
             0.1,
             "#c51b7d"
            ],
            [
             0.2,
             "#de77ae"
            ],
            [
             0.3,
             "#f1b6da"
            ],
            [
             0.4,
             "#fde0ef"
            ],
            [
             0.5,
             "#f7f7f7"
            ],
            [
             0.6,
             "#e6f5d0"
            ],
            [
             0.7,
             "#b8e186"
            ],
            [
             0.8,
             "#7fbc41"
            ],
            [
             0.9,
             "#4d9221"
            ],
            [
             1,
             "#276419"
            ]
           ],
           "sequential": [
            [
             0,
             "#0d0887"
            ],
            [
             0.1111111111111111,
             "#46039f"
            ],
            [
             0.2222222222222222,
             "#7201a8"
            ],
            [
             0.3333333333333333,
             "#9c179e"
            ],
            [
             0.4444444444444444,
             "#bd3786"
            ],
            [
             0.5555555555555556,
             "#d8576b"
            ],
            [
             0.6666666666666666,
             "#ed7953"
            ],
            [
             0.7777777777777778,
             "#fb9f3a"
            ],
            [
             0.8888888888888888,
             "#fdca26"
            ],
            [
             1,
             "#f0f921"
            ]
           ],
           "sequentialminus": [
            [
             0,
             "#0d0887"
            ],
            [
             0.1111111111111111,
             "#46039f"
            ],
            [
             0.2222222222222222,
             "#7201a8"
            ],
            [
             0.3333333333333333,
             "#9c179e"
            ],
            [
             0.4444444444444444,
             "#bd3786"
            ],
            [
             0.5555555555555556,
             "#d8576b"
            ],
            [
             0.6666666666666666,
             "#ed7953"
            ],
            [
             0.7777777777777778,
             "#fb9f3a"
            ],
            [
             0.8888888888888888,
             "#fdca26"
            ],
            [
             1,
             "#f0f921"
            ]
           ]
          },
          "colorway": [
           "#636efa",
           "#EF553B",
           "#00cc96",
           "#ab63fa",
           "#FFA15A",
           "#19d3f3",
           "#FF6692",
           "#B6E880",
           "#FF97FF",
           "#FECB52"
          ],
          "font": {
           "color": "#2a3f5f"
          },
          "geo": {
           "bgcolor": "white",
           "lakecolor": "white",
           "landcolor": "#E5ECF6",
           "showlakes": true,
           "showland": true,
           "subunitcolor": "white"
          },
          "hoverlabel": {
           "align": "left"
          },
          "hovermode": "closest",
          "mapbox": {
           "style": "light"
          },
          "paper_bgcolor": "white",
          "plot_bgcolor": "#E5ECF6",
          "polar": {
           "angularaxis": {
            "gridcolor": "white",
            "linecolor": "white",
            "ticks": ""
           },
           "bgcolor": "#E5ECF6",
           "radialaxis": {
            "gridcolor": "white",
            "linecolor": "white",
            "ticks": ""
           }
          },
          "scene": {
           "xaxis": {
            "backgroundcolor": "#E5ECF6",
            "gridcolor": "white",
            "gridwidth": 2,
            "linecolor": "white",
            "showbackground": true,
            "ticks": "",
            "zerolinecolor": "white"
           },
           "yaxis": {
            "backgroundcolor": "#E5ECF6",
            "gridcolor": "white",
            "gridwidth": 2,
            "linecolor": "white",
            "showbackground": true,
            "ticks": "",
            "zerolinecolor": "white"
           },
           "zaxis": {
            "backgroundcolor": "#E5ECF6",
            "gridcolor": "white",
            "gridwidth": 2,
            "linecolor": "white",
            "showbackground": true,
            "ticks": "",
            "zerolinecolor": "white"
           }
          },
          "shapedefaults": {
           "line": {
            "color": "#2a3f5f"
           }
          },
          "ternary": {
           "aaxis": {
            "gridcolor": "white",
            "linecolor": "white",
            "ticks": ""
           },
           "baxis": {
            "gridcolor": "white",
            "linecolor": "white",
            "ticks": ""
           },
           "bgcolor": "#E5ECF6",
           "caxis": {
            "gridcolor": "white",
            "linecolor": "white",
            "ticks": ""
           }
          },
          "title": {
           "x": 0.05
          },
          "xaxis": {
           "automargin": true,
           "gridcolor": "white",
           "linecolor": "white",
           "ticks": "",
           "title": {
            "standoff": 15
           },
           "zerolinecolor": "white",
           "zerolinewidth": 2
          },
          "yaxis": {
           "automargin": true,
           "gridcolor": "white",
           "linecolor": "white",
           "ticks": "",
           "title": {
            "standoff": 15
           },
           "zerolinecolor": "white",
           "zerolinewidth": 2
          }
         }
        },
        "title": {
         "text": "Pareto-front Plot"
        },
        "xaxis": {
         "title": {
          "text": "accuracy"
         }
        },
        "yaxis": {
         "title": {
          "text": "precision"
         }
        }
       }
      }
     },
     "metadata": {},
     "output_type": "display_data"
    }
   ],
   "source": [
    "\n",
    "fig = optuna.visualization.plot_pareto_front(study, target_names=[\"recall\", \"precision\"])\n",
    "fig.show()"
   ]
  },
  {
   "cell_type": "code",
   "execution_count": 6,
   "metadata": {},
   "outputs": [
    {
     "data": {
      "text/plain": [
       "[FrozenTrial(number=8, state=TrialState.COMPLETE, values=[0.948, 0.9344262295081968], datetime_start=datetime.datetime(2023, 5, 18, 18, 0, 38, 902030), datetime_complete=datetime.datetime(2023, 5, 18, 18, 0, 39, 645204), params={'learning_rate': 0.4050489491024549, 'n_estimators': 70}, user_attrs={'model_path': 'dvclive-optuna/model.pkl'}, system_attrs={}, intermediate_values={}, distributions={'learning_rate': FloatDistribution(high=1.0, log=False, low=0.0001, step=None), 'n_estimators': IntDistribution(high=200, log=False, low=10, step=10)}, trial_id=8, value=None)]"
      ]
     },
     "execution_count": 6,
     "metadata": {},
     "output_type": "execute_result"
    }
   ],
   "source": [
    "study.best_trials"
   ]
  }
 ],
 "metadata": {
  "kernelspec": {
   "display_name": ".venv",
   "language": "python",
   "name": "python3"
  },
  "language_info": {
   "codemirror_mode": {
    "name": "ipython",
    "version": 3
   },
   "file_extension": ".py",
   "mimetype": "text/x-python",
   "name": "python",
   "nbconvert_exporter": "python",
   "pygments_lexer": "ipython3",
   "version": "3.10.10"
  },
  "orig_nbformat": 4
 },
 "nbformat": 4,
 "nbformat_minor": 2
}
